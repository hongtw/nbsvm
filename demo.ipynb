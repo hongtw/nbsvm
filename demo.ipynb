{
 "cells": [
  {
   "cell_type": "code",
   "execution_count": 1,
   "metadata": {},
   "outputs": [],
   "source": [
    "from nbsvm import NBSVM\n",
    "from sklearn.datasets import fetch_20newsgroups\n",
    "from sklearn.model_selection import train_test_split\n",
    "from sklearn.feature_extraction.text import TfidfVectorizer"
   ]
  },
  {
   "cell_type": "markdown",
   "metadata": {},
   "source": [
    "# Prepare Data From 20newsgroups"
   ]
  },
  {
   "cell_type": "code",
   "execution_count": 2,
   "metadata": {},
   "outputs": [],
   "source": [
    "cats = ['alt.atheism',\n",
    "        'comp.graphics',\n",
    "        'comp.os.ms-windows.misc',\n",
    "        'talk.politics.misc',\n",
    "        'rec.sport.hockey',\n",
    "        'sci.crypt',\n",
    "        'sci.electronics',\n",
    "        'sci.med',\n",
    "        'sci.space',\n",
    "        'soc.religion.christian',]\n",
    "\n",
    "newsgroups = fetch_20newsgroups(categories=cats, subset='all')\n"
   ]
  },
  {
   "cell_type": "markdown",
   "metadata": {},
   "source": [
    "### Raw Text Data"
   ]
  },
  {
   "cell_type": "code",
   "execution_count": 3,
   "metadata": {
    "scrolled": true
   },
   "outputs": [
    {
     "data": {
      "text/plain": [
       "['From: ednclark@kraken.itc.gu.edu.au (Jeffrey Clark)\\nSubject: Re: Societally acceptable behavior\\nNntp-Posting-Host: kraken.itc.gu.edu.au\\nOrganization: ITC, Griffith University, Brisbane, Australia\\nLines: 49\\n\\ncobb@alexia.lis.uiuc.edu (Mike Cobb) writes:\\n\\n>Merely a question for the basis of morality\\n\\n>Moral/Ethical behavior = _Societally_ _acceptable_ _behavior_.\\n\\n>1)Who is society\\n\\nSociety is the collection of individuals which will fall under self-defined\\nrules.  In terms of UN decisions all the sets of peoples who are represented\\nat the UN are considered part of that society. If we then look at US federal\\nlaws provided by representatives of purely US citizens then the society for\\nthat case would be the citizens of the US and so on.\\n\\n>2)How do \"they\" define what is acceptable?\\n\\n\"Acceptable\" are those behaviours which are either legislated for the\\nsociety by representatives of that society or those behaviours which are\\nnon-verbally and, in effect, non-consciously, such as picking your nose on\\nthe Oprah Winfrey show, no-one does it, but there is no explicit law against\\ndoing it. In many cases there are is no definition of whether or not a\\nbehaviour is \"acceptable\", but one can deduce these behaviours by\\nobservation.\\n\\n\\n>3)How do we keep from a \"whatever is legal is what is \"moral\" \"position?\\n\\nIn an increasingly litigation mad society, this trap is becoming exceedingly\\ndifficult to avoid. With the infusion and strengthening of ethnic cultures\\nin American (and Australian, to bring in my local perspective) culture the\\nboundaries of acceptable behaviour are ever widening and legislation may\\neventually become the definition of moral behaviour. For instance, some\\ncultures\\' dominant religion call for live sacrifice of domesticated animals.\\nMost fundamental christians would find this practice abhorrent. However, is\\nit moral, according to the multicultural american society? This kind of\\nproblem may only be definable by legislation. \\n\\nObviously within any society there will be differences in opinion in what is\\nacceptable behaviour or not, and much of this will be due to different\\nenvironmental circumstances rather than merely different opinions.  \\n\\nOne thing is for sure, there is no universal moral code which will suit all\\ncultures in all situations.  There may, however, be some globally accepted\\nmores which can be agreed upon and instantiated as a globally enforcable\\nconcept. The majority of mores will not be common until all peoples upon\\nthis earth are living in a similar environment (if that ever happens).\\n\\nJeff \\'Nonickname\\' Clark.\\n\\n',\n",
       " 'From: Mark-Tarbell@suite.com\\nSubject: Amniocentesis, et. al.\\nOrganization: Suite Software\\nLines: 7\\nReply-To: suite!tarbell@uunet.uu.net\\nNNTP-Posting-Host: gilgamesh.suite.com\\n\\nIs there some difference between the purposes behind\\namniocentesis and chorionic villi sampling? They sound\\nsimilar to me, but are intended to detect different\\nthings?\\n\\nThanks.\\n\\x03\\n']"
      ]
     },
     "execution_count": 3,
     "metadata": {},
     "output_type": "execute_result"
    }
   ],
   "source": [
    "newsgroups.data[:2]"
   ]
  },
  {
   "cell_type": "markdown",
   "metadata": {},
   "source": [
    "### Label should be  0 ~ 9 because we request 10 topics"
   ]
  },
  {
   "cell_type": "code",
   "execution_count": 4,
   "metadata": {},
   "outputs": [
    {
     "data": {
      "text/plain": [
       "array([0, 6, 7, ..., 1, 4, 5], dtype=int64)"
      ]
     },
     "execution_count": 4,
     "metadata": {},
     "output_type": "execute_result"
    }
   ],
   "source": [
    "newsgroups.target"
   ]
  },
  {
   "cell_type": "code",
   "execution_count": 5,
   "metadata": {},
   "outputs": [
    {
     "data": {
      "text/plain": [
       "Counter({0: 799,\n",
       "         6: 990,\n",
       "         7: 987,\n",
       "         9: 775,\n",
       "         8: 997,\n",
       "         1: 973,\n",
       "         5: 984,\n",
       "         3: 999,\n",
       "         4: 991,\n",
       "         2: 985})"
      ]
     },
     "execution_count": 5,
     "metadata": {},
     "output_type": "execute_result"
    }
   ],
   "source": [
    "from collections import Counter\n",
    "Counter(newsgroups.target)"
   ]
  },
  {
   "cell_type": "markdown",
   "metadata": {},
   "source": [
    "# Transform text to vector\n",
    "Here we use tfidf vectorzier and split it to train set and test set"
   ]
  },
  {
   "cell_type": "code",
   "execution_count": 6,
   "metadata": {},
   "outputs": [
    {
     "name": "stdout",
     "output_type": "stream",
     "text": [
      "x_train.shape:(7584, 1052830)\n",
      "x_test.shape:(1896, 1052830)\n",
      "y_train.shape:(7584,)\n",
      "y_test.shape:(1896,)\n"
     ]
    }
   ],
   "source": [
    "text_vectors = TfidfVectorizer(ngram_range=(1, 2)).fit_transform(newsgroups.data)\n",
    "\n",
    "x_train, x_test, y_train, y_test =  train_test_split(\n",
    "                                        text_vectors,\n",
    "                                        newsgroups.target,\n",
    "                                        test_size=0.2,\n",
    "                                        random_state=9487)\n",
    "\n",
    "print(f\"x_train.shape:{x_train.shape}\")\n",
    "print(f\"x_test.shape:{x_test.shape}\")\n",
    "print(f\"y_train.shape:{y_train.shape}\")\n",
    "print(f\"y_test.shape:{y_test.shape}\")"
   ]
  },
  {
   "cell_type": "code",
   "execution_count": 7,
   "metadata": {},
   "outputs": [
    {
     "data": {
      "text/plain": [
       "(<7584x1052830 sparse matrix of type '<class 'numpy.float64'>'\n",
       " \twith 3356839 stored elements in Compressed Sparse Row format>,\n",
       " array([1, 9, 1, ..., 5, 4, 9], dtype=int64))"
      ]
     },
     "execution_count": 7,
     "metadata": {},
     "output_type": "execute_result"
    }
   ],
   "source": [
    "x_train, y_train"
   ]
  },
  {
   "cell_type": "markdown",
   "metadata": {},
   "source": [
    "# Train & Test"
   ]
  },
  {
   "cell_type": "markdown",
   "metadata": {},
   "source": [
    "### Training"
   ]
  },
  {
   "cell_type": "code",
   "execution_count": 8,
   "metadata": {},
   "outputs": [
    {
     "name": "stdout",
     "output_type": "stream",
     "text": [
      "2019/05/17 02:11:15 [INFO] Shape of Training Set: (7584, 1052830)\n",
      "2019/05/17 02:13:02 [INFO] Training comsuming time: 107.102134 s\n",
      "2019/05/17 02:13:13 [INFO] Train set acc: 0.9988132911392406\n"
     ]
    },
    {
     "data": {
      "text/plain": [
       "<NBSVM: classes=10>"
      ]
     },
     "execution_count": 8,
     "metadata": {},
     "output_type": "execute_result"
    }
   ],
   "source": [
    "clf = NBSVM(class_num=len(cats))\n",
    "clf.fit(x_train, y_train)"
   ]
  },
  {
   "cell_type": "markdown",
   "metadata": {},
   "source": [
    "### Training by multi-process"
   ]
  },
  {
   "cell_type": "code",
   "execution_count": 9,
   "metadata": {},
   "outputs": [
    {
     "name": "stdout",
     "output_type": "stream",
     "text": [
      "2019/05/17 02:13:13 [INFO] Shape of Training Set: (7584, 1052830)\n",
      "2019/05/17 02:14:10 [INFO] Training comsuming time: 57.527142 s\n",
      "2019/05/17 02:14:21 [INFO] Train set acc: 0.9988132911392406\n"
     ]
    },
    {
     "data": {
      "text/plain": [
       "<NBSVM: classes=10>"
      ]
     },
     "execution_count": 9,
     "metadata": {},
     "output_type": "execute_result"
    }
   ],
   "source": [
    "clf = NBSVM(class_num=len(cats), n_jobs=-1)\n",
    "clf.fit(x_train, y_train)"
   ]
  },
  {
   "cell_type": "markdown",
   "metadata": {},
   "source": [
    "### Testing"
   ]
  },
  {
   "cell_type": "code",
   "execution_count": 10,
   "metadata": {},
   "outputs": [
    {
     "name": "stdout",
     "output_type": "stream",
     "text": [
      "Test Acc: 0.9556962025316456\n"
     ]
    }
   ],
   "source": [
    "print(\"Test Acc:\", clf.evaluate(x_test, y_test))"
   ]
  },
  {
   "cell_type": "markdown",
   "metadata": {},
   "source": [
    "### Get Probablities of each class"
   ]
  },
  {
   "cell_type": "code",
   "execution_count": 11,
   "metadata": {},
   "outputs": [
    {
     "name": "stdout",
     "output_type": "stream",
     "text": [
      "Predict Probabilites for first 3 training-sample:\n",
      " [[0.01399269 0.71623784 0.0250064  0.01469968 0.01539825 0.03450357\n",
      "  0.02821238 0.02011785 0.01565684 0.01549794]\n",
      " [0.02142355 0.01692018 0.01417318 0.01663919 0.02041968 0.02307865\n",
      "  0.0277924  0.02171772 0.0371468  0.92540225]\n",
      " [0.01287614 0.93184883 0.07596478 0.01515449 0.01586291 0.04773813\n",
      "  0.0259994  0.0168499  0.02104456 0.01509836]]\n",
      "-\n",
      "Label of first 3 training-sample: [1 9 1]\n"
     ]
    }
   ],
   "source": [
    "print(\"Predict Probabilites for first 3 training-sample:\\n\", clf.predict_prob(x_train[:3]))\n",
    "\n",
    "print(f'-\\nLabel of first 3 training-sample: {y_train[:3]}')"
   ]
  },
  {
   "cell_type": "markdown",
   "metadata": {},
   "source": [
    "### Predict Label"
   ]
  },
  {
   "cell_type": "code",
   "execution_count": 12,
   "metadata": {},
   "outputs": [
    {
     "data": {
      "text/plain": [
       "array([1, 9, 1], dtype=int64)"
      ]
     },
     "execution_count": 12,
     "metadata": {},
     "output_type": "execute_result"
    }
   ],
   "source": [
    "clf.predict(x_train[:3])"
   ]
  },
  {
   "cell_type": "markdown",
   "metadata": {},
   "source": [
    "# Save & Load"
   ]
  },
  {
   "cell_type": "code",
   "execution_count": 13,
   "metadata": {},
   "outputs": [
    {
     "data": {
      "text/plain": [
       "<NBSVM: classes=10>"
      ]
     },
     "execution_count": 13,
     "metadata": {},
     "output_type": "execute_result"
    }
   ],
   "source": [
    "clf"
   ]
  },
  {
   "cell_type": "markdown",
   "metadata": {},
   "source": [
    "### Save"
   ]
  },
  {
   "cell_type": "code",
   "execution_count": 14,
   "metadata": {},
   "outputs": [
    {
     "name": "stdout",
     "output_type": "stream",
     "text": [
      "2019/05/17 02:14:27 [INFO] save models to ./model/nbsvm.demo.model, md5=d032c5a2ea5909cf8fe6c4c983528ccf\n"
     ]
    }
   ],
   "source": [
    "save_path = './model/nbsvm.demo.model'\n",
    "clf.save(save_path)"
   ]
  },
  {
   "cell_type": "markdown",
   "metadata": {},
   "source": [
    "### Load and Validate"
   ]
  },
  {
   "cell_type": "code",
   "execution_count": 15,
   "metadata": {},
   "outputs": [
    {
     "name": "stdout",
     "output_type": "stream",
     "text": [
      "2019/05/17 02:14:27 [INFO] Load models from :./model/nbsvm.demo.model, md5=d032c5a2ea5909cf8fe6c4c983528ccf\n"
     ]
    },
    {
     "data": {
      "text/plain": [
       "<NBSVM: classes=10>"
      ]
     },
     "execution_count": 15,
     "metadata": {},
     "output_type": "execute_result"
    }
   ],
   "source": [
    "new_clf = NBSVM()\n",
    "new_clf.load(save_path)\n",
    "new_clf"
   ]
  },
  {
   "cell_type": "code",
   "execution_count": 16,
   "metadata": {},
   "outputs": [
    {
     "data": {
      "text/plain": [
       "True"
      ]
     },
     "execution_count": 16,
     "metadata": {},
     "output_type": "execute_result"
    }
   ],
   "source": [
    "new_clf.evaluate(x_test, y_test) == clf.evaluate(x_test, y_test)"
   ]
  },
  {
   "cell_type": "code",
   "execution_count": 17,
   "metadata": {},
   "outputs": [
    {
     "data": {
      "text/plain": [
       "array([1, 9, 1], dtype=int64)"
      ]
     },
     "execution_count": 17,
     "metadata": {},
     "output_type": "execute_result"
    }
   ],
   "source": [
    "new_clf.predict(x_train[:3])"
   ]
  }
 ],
 "metadata": {
  "kernelspec": {
   "display_name": "Python 3",
   "language": "python",
   "name": "python3"
  },
  "language_info": {
   "codemirror_mode": {
    "name": "ipython",
    "version": 3
   },
   "file_extension": ".py",
   "mimetype": "text/x-python",
   "name": "python",
   "nbconvert_exporter": "python",
   "pygments_lexer": "ipython3",
   "version": "3.6.6"
  }
 },
 "nbformat": 4,
 "nbformat_minor": 2
}
